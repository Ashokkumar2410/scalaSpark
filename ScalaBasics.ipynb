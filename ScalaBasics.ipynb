{
 "cells": [
  {
   "cell_type": "code",
   "execution_count": 1,
   "metadata": {},
   "outputs": [
    {
     "data": {
      "text/plain": [
       "Intitializing Scala interpreter ..."
      ]
     },
     "metadata": {},
     "output_type": "display_data"
    },
    {
     "data": {
      "text/plain": [
       "Spark Web UI available at http://DESKTOP-7M17AKF:4040\n",
       "SparkContext available as 'sc' (version = 2.4.5, master = local[*], app id = local-1589168043689)\n",
       "SparkSession available as 'spark'\n"
      ]
     },
     "metadata": {},
     "output_type": "display_data"
    },
    {
     "data": {
      "text/plain": [
       "data: Int = 101\r\n",
       "data: Int = 101\n"
      ]
     },
     "execution_count": 1,
     "metadata": {},
     "output_type": "execute_result"
    }
   ],
   "source": [
    "var data = 100  \n",
    "data = 101  // It works, No error.  "
   ]
  },
  {
   "cell_type": "code",
   "execution_count": 2,
   "metadata": {},
   "outputs": [
    {
     "data": {
      "text/plain": [
       "data: Int = 101\r\n",
       "data: Int = 101\n"
      ]
     },
     "execution_count": 2,
     "metadata": {},
     "output_type": "execute_result"
    }
   ],
   "source": [
    "var data:Int = 100  \n",
    "data = 101  // It works, No error.  "
   ]
  },
  {
   "cell_type": "code",
   "execution_count": 3,
   "metadata": {},
   "outputs": [
    {
     "data": {
      "text/plain": [
       "name: String = Ashokkumar Ramakrishnan\n"
      ]
     },
     "execution_count": 3,
     "metadata": {},
     "output_type": "execute_result"
    }
   ],
   "source": [
    "val name:String = \"Ashokkumar Ramakrishnan\""
   ]
  },
  {
   "cell_type": "code",
   "execution_count": 4,
   "metadata": {},
   "outputs": [
    {
     "data": {
      "text/plain": [
       "res0: Array[String] = Array(Ashokkumar, Ramakrishnan)\n"
      ]
     },
     "execution_count": 4,
     "metadata": {},
     "output_type": "execute_result"
    }
   ],
   "source": [
    "name.split(\" \")"
   ]
  },
  {
   "cell_type": "code",
   "execution_count": 3,
   "metadata": {},
   "outputs": [
    {
     "name": "stdout",
     "output_type": "stream",
     "text": [
      "Invalid\n"
     ]
    },
    {
     "data": {
      "text/plain": [
       "score: Int = 101\n"
      ]
     },
     "execution_count": 3,
     "metadata": {},
     "output_type": "execute_result"
    }
   ],
   "source": [
    "var score:Int = 101\n",
    "\n",
    "if(score >= 0 && score < 50){\n",
    "    println(\"Fail\")\n",
    "}\n",
    "else if(score >=50 && score <=100){\n",
    "    println(\"pass\")\n",
    "}\n",
    "else println(\"Invalid\")"
   ]
  },
  {
   "cell_type": "code",
   "execution_count": 4,
   "metadata": {},
   "outputs": [
    {
     "name": "stdout",
     "output_type": "stream",
     "text": [
      "pass\n"
     ]
    },
    {
     "data": {
      "text/plain": [
       "score: Int = 99\n"
      ]
     },
     "execution_count": 4,
     "metadata": {},
     "output_type": "execute_result"
    }
   ],
   "source": [
    "var score:Int = 99\n",
    "\n",
    "if(score >= 0 && score < 50){\n",
    "    println(\"Fail\")\n",
    "}\n",
    "else if(score >=50 && score <=100){\n",
    "    println(\"pass\")\n",
    "}\n",
    "else println(\"Invalid\")"
   ]
  },
  {
   "cell_type": "code",
   "execution_count": 5,
   "metadata": {},
   "outputs": [
    {
     "name": "stdout",
     "output_type": "stream",
     "text": [
      "You cannot enter as you are not 18\n"
     ]
    },
    {
     "data": {
      "text/plain": [
       "sex: String = M\r\n",
       "age: Int = 12\n"
      ]
     },
     "execution_count": 5,
     "metadata": {},
     "output_type": "execute_result"
    }
   ],
   "source": [
    "var sex = \"M\"\n",
    "var age=12\n",
    "if(sex == \"M\" || sex == \"F\"){\n",
    "    if(age>18){\n",
    "        println(\"You may Enter\")\n",
    "    }\n",
    "    else println(\"You cannot enter as you are not 18\")\n",
    "} else println(\"Others not alllowed\")"
   ]
  },
  {
   "cell_type": "code",
   "execution_count": 7,
   "metadata": {},
   "outputs": [
    {
     "name": "stdout",
     "output_type": "stream",
     "text": [
      "You may Enter\n"
     ]
    },
    {
     "data": {
      "text/plain": [
       "sex: String = M\r\n",
       "age: Int = 18\n"
      ]
     },
     "execution_count": 7,
     "metadata": {},
     "output_type": "execute_result"
    }
   ],
   "source": [
    "var sex = \"M\"\n",
    "var age=18\n",
    "if(sex == \"M\" || sex == \"F\"){\n",
    "    if(age>17){\n",
    "        println(\"You may Enter\")\n",
    "    }\n",
    "    else println(\"You cannot enter as you are not 18\")\n",
    "} else println(\"Others not alllowed\")"
   ]
  },
  {
   "cell_type": "markdown",
   "metadata": {},
   "source": [
    "### Looping"
   ]
  },
  {
   "cell_type": "code",
   "execution_count": 8,
   "metadata": {},
   "outputs": [
    {
     "name": "stdout",
     "output_type": "stream",
     "text": [
      "10\n",
      "12\n",
      "14\n",
      "16\n",
      "18\n",
      "20\n"
     ]
    },
    {
     "data": {
      "text/plain": [
       "a: Int = 22\n"
      ]
     },
     "execution_count": 8,
     "metadata": {},
     "output_type": "execute_result"
    }
   ],
   "source": [
    "var a = 10\n",
    "while(a<=20){\n",
    "    println(a)\n",
    "    a+=2\n",
    "}"
   ]
  },
  {
   "cell_type": "code",
   "execution_count": 11,
   "metadata": {},
   "outputs": [
    {
     "data": {
      "text/plain": [
       "Arr: Array[String] = Array(ashok, kumar, rama, krishnan)\n"
      ]
     },
     "execution_count": 11,
     "metadata": {},
     "output_type": "execute_result"
    }
   ],
   "source": [
    "var Arr = Array(\"ashok\",\"kumar\",\"rama\",\"krishnan\")"
   ]
  },
  {
   "cell_type": "code",
   "execution_count": 12,
   "metadata": {},
   "outputs": [
    {
     "data": {
      "text/plain": [
       "res8: String = kumar\n"
      ]
     },
     "execution_count": 12,
     "metadata": {},
     "output_type": "execute_result"
    }
   ],
   "source": [
    "Arr(1)"
   ]
  },
  {
   "cell_type": "code",
   "execution_count": 14,
   "metadata": {},
   "outputs": [
    {
     "name": "stdout",
     "output_type": "stream",
     "text": [
      "ashok\n",
      "kumar\n",
      "rama\n",
      "krishnan\n"
     ]
    }
   ],
   "source": [
    "for(i <- Arr){\n",
    "    println(i)\n",
    "}"
   ]
  },
  {
   "cell_type": "code",
   "execution_count": 15,
   "metadata": {},
   "outputs": [
    {
     "name": "stdout",
     "output_type": "stream",
     "text": [
      "ashok kumar rama krishnan "
     ]
    }
   ],
   "source": [
    "for(i <- Arr){\n",
    "    print(i+\" \")\n",
    "}"
   ]
  },
  {
   "cell_type": "code",
   "execution_count": 17,
   "metadata": {},
   "outputs": [
    {
     "name": "stdout",
     "output_type": "stream",
     "text": [
      "2 4 6 8 10 "
     ]
    }
   ],
   "source": [
    "for( a <- 1 to 10 if a%2==0 )  print(a+\" \")  "
   ]
  },
  {
   "cell_type": "markdown",
   "metadata": {},
   "source": [
    "##### for-each loop"
   ]
  },
  {
   "cell_type": "code",
   "execution_count": 18,
   "metadata": {},
   "outputs": [
    {
     "name": "stdout",
     "output_type": "stream",
     "text": [
      "1\n",
      "2\n",
      "3\n",
      "4\n",
      "5\n",
      "6\n",
      "7\n",
      "8\n",
      "9\n"
     ]
    },
    {
     "data": {
      "text/plain": [
       "list: List[Int] = List(1, 2, 3, 4, 5, 6, 7, 8, 9)\n"
      ]
     },
     "execution_count": 18,
     "metadata": {},
     "output_type": "execute_result"
    }
   ],
   "source": [
    "var list = List(1,2,3,4,5,6,7,8,9) \n",
    "list.foreach{  \n",
    "            println     // Print each element  \n",
    "        }  "
   ]
  },
  {
   "cell_type": "code",
   "execution_count": 19,
   "metadata": {},
   "outputs": [
    {
     "name": "stdout",
     "output_type": "stream",
     "text": [
      "123456789"
     ]
    }
   ],
   "source": [
    "list.foreach(print)  "
   ]
  },
  {
   "cell_type": "code",
   "execution_count": 20,
   "metadata": {},
   "outputs": [
    {
     "name": "stdout",
     "output_type": "stream",
     "text": [
      "1\n",
      "2\n",
      "3\n",
      "4\n",
      "5\n",
      "6\n",
      "7\n",
      "8\n",
      "9\n"
     ]
    }
   ],
   "source": [
    "list.foreach(println)  "
   ]
  },
  {
   "cell_type": "code",
   "execution_count": 21,
   "metadata": {},
   "outputs": [
    {
     "name": "stdout",
     "output_type": "stream",
     "text": [
      "1 2 3 4 5 6 7 8 9 "
     ]
    }
   ],
   "source": [
    "list.foreach((element:Int)=>print(element+\" \"))"
   ]
  },
  {
   "cell_type": "code",
   "execution_count": 22,
   "metadata": {},
   "outputs": [
    {
     "name": "stdout",
     "output_type": "stream",
     "text": [
      "1\n",
      "3\n",
      "5\n",
      "7\n",
      "9\n"
     ]
    }
   ],
   "source": [
    "for(i<-1 to 10 by 2) println(i)"
   ]
  },
  {
   "cell_type": "code",
   "execution_count": 23,
   "metadata": {},
   "outputs": [
    {
     "data": {
      "text/plain": [
       "import scala.util.control.Breaks._\n"
      ]
     },
     "execution_count": 23,
     "metadata": {},
     "output_type": "execute_result"
    }
   ],
   "source": [
    "import scala.util.control.Breaks._"
   ]
  },
  {
   "cell_type": "code",
   "execution_count": 27,
   "metadata": {},
   "outputs": [
    {
     "name": "stdout",
     "output_type": "stream",
     "text": [
      "1 2 3 4 "
     ]
    },
    {
     "ename": "scala.util.control.BreakControl",
     "evalue": "",
     "output_type": "error",
     "traceback": [
      "scala.util.control.BreakControl",
      ""
     ]
    }
   ],
   "source": [
    "for(i<-1 to 10) if(i == 5) break else print(i+\" \")"
   ]
  },
  {
   "cell_type": "markdown",
   "metadata": {},
   "source": [
    "### Same as continue statement"
   ]
  },
  {
   "cell_type": "code",
   "execution_count": 30,
   "metadata": {},
   "outputs": [
    {
     "name": "stdout",
     "output_type": "stream",
     "text": [
      "1 2 3 4 6 7 8 9 10 "
     ]
    }
   ],
   "source": [
    "for(i<-1 to 10){\n",
    "    breakable{\n",
    "        if(i == 5) break else print(i+\" \")\n",
    "    }\n",
    "}"
   ]
  },
  {
   "cell_type": "code",
   "execution_count": 28,
   "metadata": {},
   "outputs": [
    {
     "name": "stdout",
     "output_type": "stream",
     "text": [
      "1 1\n",
      "1 2\n",
      "1 3\n",
      "2 1\n",
      "3 1\n",
      "3 2\n",
      "3 3\n"
     ]
    }
   ],
   "source": [
    "for(i <- 1 to 3){  \n",
    "      breakable {   \n",
    "          for(j <- 1 to 3){  \n",
    "              if(i == 2 & j == 2 )   \n",
    "                 break  \n",
    "              println(i+\" \"+j)  \n",
    "          }  \n",
    "      }  \n",
    "  }"
   ]
  },
  {
   "cell_type": "code",
   "execution_count": 29,
   "metadata": {},
   "outputs": [
    {
     "name": "stdout",
     "output_type": "stream",
     "text": [
      "1 1\n",
      "1 2\n",
      "1 3\n",
      "2 1\n"
     ]
    },
    {
     "ename": "scala.util.control.BreakControl",
     "evalue": "",
     "output_type": "error",
     "traceback": [
      "scala.util.control.BreakControl",
      ""
     ]
    }
   ],
   "source": [
    "for(i <- 1 to 3){  \n",
    "//       breakable {   \n",
    "          for(j <- 1 to 3){  \n",
    "              if(i == 2 & j == 2 )   \n",
    "                 break  \n",
    "              println(i+\" \"+j)  \n",
    "          }  \n",
    "      }  \n",
    "//   }"
   ]
  },
  {
   "cell_type": "markdown",
   "metadata": {},
   "source": [
    "#### Function"
   ]
  },
  {
   "cell_type": "code",
   "execution_count": 37,
   "metadata": {},
   "outputs": [
    {
     "name": "stdout",
     "output_type": "stream",
     "text": [
      "8\n",
      "8\n"
     ]
    },
    {
     "data": {
      "text/plain": [
       "cubeIt: (x: Int)Int\r\n",
       "transformInt: (x: Int, f: Int => Int)Int\r\n",
       "result: Int = 8\n"
      ]
     },
     "execution_count": 37,
     "metadata": {},
     "output_type": "execute_result"
    }
   ],
   "source": [
    "def cubeIt(x: Int): Int = {x * x * x}           //> cubeIt: (x: Int)Int\n",
    "  \n",
    "  println(cubeIt(2))                              //> 8\n",
    "  \n",
    "  // Functions can take other functions as parameters\n",
    "  \n",
    "  def transformInt(x: Int, f: Int => Int) : Int = {\n",
    "  \tf(x)\n",
    "  }                                               //> transformInt: (x: Int, f: Int => Int)Int\n",
    "  \n",
    "  val result = transformInt(2, cubeIt)            //> result  : Int = 8\n",
    "  println (result)                                //> 8"
   ]
  },
  {
   "cell_type": "markdown",
   "metadata": {},
   "source": [
    "#### Scala Higher Order Functions"
   ]
  },
  {
   "cell_type": "code",
   "execution_count": 40,
   "metadata": {},
   "outputs": [
    {
     "data": {
      "text/plain": [
       "functionExample: (a: Int, f: Int => AnyVal)Unit\r\n",
       "multiplyBy2: (a: Int)Int\n"
      ]
     },
     "execution_count": 40,
     "metadata": {},
     "output_type": "execute_result"
    }
   ],
   "source": [
    "def functionExample(a:Int, f:Int=>AnyVal):Unit = {  \n",
    "        println(f(a))                                   // Calling that function   \n",
    "    }  \n",
    "def multiplyBy2(a:Int):Int = {  \n",
    "        a*2  \n",
    "    } "
   ]
  },
  {
   "cell_type": "code",
   "execution_count": 41,
   "metadata": {},
   "outputs": [
    {
     "name": "stdout",
     "output_type": "stream",
     "text": [
      "6\n"
     ]
    }
   ],
   "source": [
    "functionExample(3,multiplyBy2)"
   ]
  },
  {
   "cell_type": "code",
   "execution_count": 46,
   "metadata": {},
   "outputs": [
    {
     "data": {
      "text/plain": [
       "funct: (a: Int, f: Int => Int)Int\r\n",
       "cubeIt: (x: Int)Int\r\n",
       "res30: Int = 27\n"
      ]
     },
     "execution_count": 46,
     "metadata": {},
     "output_type": "execute_result"
    }
   ],
   "source": [
    "def funct(a:Int, f:Int => Int):Int = {\n",
    "    \n",
    "    f(a)\n",
    "}\n",
    "def cubeIt(x:Int): Int={x*x*x}\n",
    "\n",
    "funct(3,cubeIt)"
   ]
  },
  {
   "cell_type": "code",
   "execution_count": 47,
   "metadata": {},
   "outputs": [
    {
     "data": {
      "text/plain": [
       "result2: (Int, Int) => Int = <function2>\r\n",
       "res31: Int = 12\n"
      ]
     },
     "execution_count": 47,
     "metadata": {},
     "output_type": "execute_result"
    }
   ],
   "source": [
    "var result2 = (_:Int)+(_:Int) \n",
    "\n",
    "result2(10,2)"
   ]
  },
  {
   "cell_type": "code",
   "execution_count": 48,
   "metadata": {},
   "outputs": [
    {
     "data": {
      "text/plain": [
       "add: (a: Int, b: Int, c: Int)Int\r\n",
       "res32: Int = 9\n"
      ]
     },
     "execution_count": 48,
     "metadata": {},
     "output_type": "execute_result"
    }
   ],
   "source": [
    " def add(a:Int, b:Int, c:Int) = {  \n",
    "        def add2(x:Int,y:Int) = {  \n",
    "            x+y  \n",
    "        }  \n",
    "        add2(a,add2(b,c))  \n",
    "    } \n",
    "add(2,3,4)"
   ]
  },
  {
   "cell_type": "code",
   "execution_count": 49,
   "metadata": {},
   "outputs": [
    {
     "data": {
      "text/plain": [
       "add: (args: Int*)Int\r\n",
       "res33: Int = 15\n"
      ]
     },
     "execution_count": 49,
     "metadata": {},
     "output_type": "execute_result"
    }
   ],
   "source": [
    "def add(args: Int*) = {  \n",
    "    var sum = 0;  \n",
    "    for(a <- args) sum+=a  \n",
    "    sum  \n",
    "}  \n",
    "\n",
    "add(1,2,3,4,5)"
   ]
  },
  {
   "cell_type": "code",
   "execution_count": 50,
   "metadata": {},
   "outputs": [
    {
     "data": {
      "text/plain": [
       "arg: (args: String*)Unit\n"
      ]
     },
     "execution_count": 50,
     "metadata": {},
     "output_type": "execute_result"
    }
   ],
   "source": [
    "def arg(args: String*) ={\n",
    "    println(args)\n",
    "}"
   ]
  },
  {
   "cell_type": "code",
   "execution_count": 51,
   "metadata": {},
   "outputs": [
    {
     "name": "stdout",
     "output_type": "stream",
     "text": [
      "WrappedArray(Ashok, Kumar)\n"
     ]
    }
   ],
   "source": [
    "arg(\"Ashok\", \"Kumar\")"
   ]
  },
  {
   "cell_type": "code",
   "execution_count": 52,
   "metadata": {},
   "outputs": [
    {
     "name": "stdout",
     "output_type": "stream",
     "text": [
      "WrappedArray(Ashok, Kumar)\n"
     ]
    },
    {
     "data": {
      "text/plain": [
       "v: Unit = ()\n"
      ]
     },
     "execution_count": 52,
     "metadata": {},
     "output_type": "execute_result"
    }
   ],
   "source": [
    "val v = arg(\"Ashok\", \"Kumar\")"
   ]
  },
  {
   "cell_type": "code",
   "execution_count": 54,
   "metadata": {},
   "outputs": [
    {
     "name": "stdout",
     "output_type": "stream",
     "text": [
      "0 null\n"
     ]
    },
    {
     "data": {
      "text/plain": [
       "defined class Student\r\n",
       "s: Student = Student@5944e26b\n"
      ]
     },
     "execution_count": 54,
     "metadata": {},
     "output_type": "execute_result"
    }
   ],
   "source": [
    "class Student{\n",
    "    var id:Int = 0\n",
    "    var name:String = null\n",
    "}\n",
    "\n",
    "var s = new Student()\n",
    "println(s.id+\" \"+s.name)"
   ]
  },
  {
   "cell_type": "code",
   "execution_count": 55,
   "metadata": {},
   "outputs": [
    {
     "data": {
      "text/plain": [
       "s.id: Int = 123\r\n",
       "s.name: String = Ashok\n"
      ]
     },
     "execution_count": 55,
     "metadata": {},
     "output_type": "execute_result"
    }
   ],
   "source": [
    "s.id = 123\n",
    "s.name = \"Ashok\""
   ]
  },
  {
   "cell_type": "code",
   "execution_count": 56,
   "metadata": {},
   "outputs": [
    {
     "data": {
      "text/plain": [
       "res37: Int = 123\n"
      ]
     },
     "execution_count": 56,
     "metadata": {},
     "output_type": "execute_result"
    }
   ],
   "source": [
    "s.id"
   ]
  },
  {
   "cell_type": "code",
   "execution_count": 58,
   "metadata": {},
   "outputs": [
    {
     "name": "stdout",
     "output_type": "stream",
     "text": [
      "100 Martin\n"
     ]
    },
    {
     "data": {
      "text/plain": [
       "defined class Student\r\n",
       "s: Student = Student@5ff4cb1\n"
      ]
     },
     "execution_count": 58,
     "metadata": {},
     "output_type": "execute_result"
    }
   ],
   "source": [
    "class Student(id:Int, name:String){     // Primary constructor  \n",
    "    def show(){  \n",
    "        println(id+\" \"+name)  \n",
    "    } \n",
    "    def greet(word:String){\n",
    "        println(word+\" \"+name)\n",
    "    }\n",
    "}\n",
    "\n",
    "var s = new Student(100,\"Martin\") \n",
    "s.show()"
   ]
  },
  {
   "cell_type": "code",
   "execution_count": 59,
   "metadata": {},
   "outputs": [
    {
     "name": "stdout",
     "output_type": "stream",
     "text": [
      "Hello Martin\n"
     ]
    }
   ],
   "source": [
    "s.greet(\"Hello\")"
   ]
  },
  {
   "cell_type": "markdown",
   "metadata": {},
   "source": [
    "#### Scala Array"
   ]
  },
  {
   "cell_type": "code",
   "execution_count": 61,
   "metadata": {},
   "outputs": [
    {
     "data": {
      "text/plain": [
       "A: Array[String] = Array(Ashok, Kumar, Rama, Krishnan)\n"
      ]
     },
     "execution_count": 61,
     "metadata": {},
     "output_type": "execute_result"
    }
   ],
   "source": [
    "val A=Array(\"Ashok\",\"Kumar\",\"Rama\", \"Krishnan\")"
   ]
  },
  {
   "cell_type": "code",
   "execution_count": 62,
   "metadata": {},
   "outputs": [
    {
     "data": {
      "text/plain": [
       "res41: String = Ashok\n"
      ]
     },
     "execution_count": 62,
     "metadata": {},
     "output_type": "execute_result"
    }
   ],
   "source": [
    "A(0)"
   ]
  },
  {
   "cell_type": "code",
   "execution_count": 63,
   "metadata": {},
   "outputs": [
    {
     "name": "stdout",
     "output_type": "stream",
     "text": [
      "AshokKumarRamaKrishnan"
     ]
    }
   ],
   "source": [
    "A.foreach(print)"
   ]
  },
  {
   "cell_type": "code",
   "execution_count": 64,
   "metadata": {},
   "outputs": [
    {
     "name": "stdout",
     "output_type": "stream",
     "text": [
      "AshokKumarRamaKrishnan"
     ]
    }
   ],
   "source": [
    "for(i<-A) print(i)"
   ]
  },
  {
   "cell_type": "code",
   "execution_count": 65,
   "metadata": {},
   "outputs": [
    {
     "data": {
      "text/plain": [
       "arr: Array[Array[Int]] = Array(Array(0, 0), Array(0, 0))\n"
      ]
     },
     "execution_count": 65,
     "metadata": {},
     "output_type": "execute_result"
    }
   ],
   "source": [
    "var arr = Array.ofDim[Int](2,2) "
   ]
  },
  {
   "cell_type": "code",
   "execution_count": 67,
   "metadata": {},
   "outputs": [],
   "source": [
    "arr(1)(0) = 15"
   ]
  },
  {
   "cell_type": "code",
   "execution_count": 68,
   "metadata": {},
   "outputs": [],
   "source": [
    "arr(1)(1) = 16"
   ]
  },
  {
   "cell_type": "code",
   "execution_count": 69,
   "metadata": {},
   "outputs": [
    {
     "data": {
      "text/plain": [
       "res47: Array[Array[Int]] = Array(Array(0, 0), Array(15, 16))\n"
      ]
     },
     "execution_count": 69,
     "metadata": {},
     "output_type": "execute_result"
    }
   ],
   "source": [
    "arr"
   ]
  },
  {
   "cell_type": "code",
   "execution_count": 70,
   "metadata": {},
   "outputs": [
    {
     "data": {
      "text/plain": [
       "arr: Array[Array[Int]] = Array(Array(1, 2, 3, 4, 5), Array(6, 7, 8, 9, 10))\n"
      ]
     },
     "execution_count": 70,
     "metadata": {},
     "output_type": "execute_result"
    }
   ],
   "source": [
    "var arr = Array(Array(1,2,3,4,5), Array(6,7,8,9,10))"
   ]
  },
  {
   "cell_type": "code",
   "execution_count": 73,
   "metadata": {},
   "outputs": [
    {
     "data": {
      "text/plain": [
       "res50: IndexedSeq[Any] = Array(Array(1, 2, 3, 4, 5), Array(6, 7, 8, 9, 10))\n"
      ]
     },
     "execution_count": 73,
     "metadata": {},
     "output_type": "execute_result"
    }
   ],
   "source": [
    "arr.deep"
   ]
  },
  {
   "cell_type": "markdown",
   "metadata": {},
   "source": [
    "##### exception handling"
   ]
  },
  {
   "cell_type": "code",
   "execution_count": 76,
   "metadata": {},
   "outputs": [
    {
     "data": {
      "text/plain": [
       "div: (a: Int, b: Int)Int\r\n",
       "res53: Int = 50\n"
      ]
     },
     "execution_count": 76,
     "metadata": {},
     "output_type": "execute_result"
    }
   ],
   "source": [
    "def div(a:Int, b:Int) = {\n",
    "    a/b\n",
    "}\n",
    "div(100,2)"
   ]
  },
  {
   "cell_type": "code",
   "execution_count": 78,
   "metadata": {},
   "outputs": [
    {
     "ename": "java.lang.ArithmeticException",
     "evalue": " / by zero\r",
     "output_type": "error",
     "traceback": [
      "java.lang.ArithmeticException: / by zero\r",
      "  at div(<console>:30)\r",
      "  ... 38 elided",
      ""
     ]
    }
   ],
   "source": [
    "div(100,0)"
   ]
  },
  {
   "cell_type": "code",
   "execution_count": 79,
   "metadata": {},
   "outputs": [
    {
     "name": "stdout",
     "output_type": "stream",
     "text": [
      "java.lang.ArithmeticException: / by zero\n"
     ]
    },
    {
     "data": {
      "text/plain": [
       "div: (a: Int, b: Int)AnyVal\r\n",
       "res56: AnyVal = ()\n"
      ]
     },
     "execution_count": 79,
     "metadata": {},
     "output_type": "execute_result"
    }
   ],
   "source": [
    "def div(a:Int,b:Int) = {\n",
    "    try{\n",
    "        a/b\n",
    "    }catch{\n",
    "        case e: ArithmeticException => println(e)\n",
    "    }\n",
    "}\n",
    "div(100,0)"
   ]
  },
  {
   "cell_type": "code",
   "execution_count": 84,
   "metadata": {},
   "outputs": [
    {
     "name": "stdout",
     "output_type": "stream",
     "text": [
      "****************java.lang.ArrayIndexOutOfBoundsException: 3\n"
     ]
    },
    {
     "data": {
      "text/plain": [
       "div: (a: Int, b: Int)AnyVal\r\n",
       "res61: AnyVal = ()\n"
      ]
     },
     "execution_count": 84,
     "metadata": {},
     "output_type": "execute_result"
    }
   ],
   "source": [
    "def div(a:Int,b:Int)={\n",
    "    try{\n",
    "        a/b\n",
    "        var arr = Array(10,11)\n",
    "        arr(3)\n",
    "    }catch{\n",
    "        case e:ArithmeticException => println(e)\n",
    "        case s: Throwable => println(\"****************\" + s)\n",
    "    }\n",
    "}\n",
    "div(100,3)"
   ]
  },
  {
   "cell_type": "code",
   "execution_count": 89,
   "metadata": {},
   "outputs": [
    {
     "name": "stdout",
     "output_type": "stream",
     "text": [
      "You are eligible\n"
     ]
    },
    {
     "data": {
      "text/plain": [
       "validate: (age: Int)Unit\r\n",
       "elig: Unit = ()\n"
      ]
     },
     "execution_count": 89,
     "metadata": {},
     "output_type": "execute_result"
    }
   ],
   "source": [
    "def validate(age:Int)={  \n",
    "        if(age<18)  \n",
    "            throw new ArithmeticException(\"You are not eligible\")  \n",
    "        else println(\"You are eligible\")  \n",
    "}\n",
    "var elig = validate(19)"
   ]
  },
  {
   "cell_type": "code",
   "execution_count": 90,
   "metadata": {},
   "outputs": [
    {
     "ename": "java.lang.ArithmeticException",
     "evalue": " You are not eligible\r",
     "output_type": "error",
     "traceback": [
      "java.lang.ArithmeticException: You are not eligible\r",
      "  at validate(<console>:31)\r",
      "  ... 38 elided",
      ""
     ]
    }
   ],
   "source": [
    "var elig = validate(16)"
   ]
  },
  {
   "cell_type": "markdown",
   "metadata": {},
   "source": [
    "### Set"
   ]
  },
  {
   "cell_type": "code",
   "execution_count": 93,
   "metadata": {},
   "outputs": [
    {
     "data": {
      "text/plain": [
       "Games: scala.collection.immutable.Set[String] = Set(Cricket, Hockey, Kabbadi, Volley)\n"
      ]
     },
     "execution_count": 93,
     "metadata": {},
     "output_type": "execute_result"
    }
   ],
   "source": [
    "val Games = Set(\"Cricket\",\"Hockey\",\"Kabbadi\",\"Volley\")"
   ]
  },
  {
   "cell_type": "code",
   "execution_count": 95,
   "metadata": {},
   "outputs": [
    {
     "data": {
      "text/plain": [
       "res64: String = Cricket\n"
      ]
     },
     "execution_count": 95,
     "metadata": {},
     "output_type": "execute_result"
    }
   ],
   "source": [
    "Games.head"
   ]
  },
  {
   "cell_type": "code",
   "execution_count": 96,
   "metadata": {},
   "outputs": [
    {
     "data": {
      "text/plain": [
       "res65: scala.collection.immutable.Set[String] = Set(Hockey, Kabbadi, Volley)\n"
      ]
     },
     "execution_count": 96,
     "metadata": {},
     "output_type": "execute_result"
    }
   ],
   "source": [
    "Games.tail"
   ]
  },
  {
   "cell_type": "code",
   "execution_count": 97,
   "metadata": {},
   "outputs": [
    {
     "data": {
      "text/plain": [
       "res66: Iterator[scala.collection.immutable.Set[String]] = non-empty iterator\n"
      ]
     },
     "execution_count": 97,
     "metadata": {},
     "output_type": "execute_result"
    }
   ],
   "source": [
    "Games.tails"
   ]
  },
  {
   "cell_type": "code",
   "execution_count": 99,
   "metadata": {},
   "outputs": [
    {
     "data": {
      "text/plain": [
       "res68: Boolean = false\n"
      ]
     },
     "execution_count": 99,
     "metadata": {},
     "output_type": "execute_result"
    }
   ],
   "source": [
    "Games.isEmpty"
   ]
  },
  {
   "cell_type": "code",
   "execution_count": 100,
   "metadata": {},
   "outputs": [
    {
     "data": {
      "text/plain": [
       "Sports: String = Spinter\n"
      ]
     },
     "execution_count": 100,
     "metadata": {},
     "output_type": "execute_result"
    }
   ],
   "source": [
    "val Sports = (\"Spinter\")"
   ]
  },
  {
   "cell_type": "code",
   "execution_count": 101,
   "metadata": {},
   "outputs": [
    {
     "data": {
      "text/plain": [
       "res69: scala.collection.immutable.Set[String] = Set(Hockey, Volley, Spinter, Kabbadi, Cricket)\n"
      ]
     },
     "execution_count": 101,
     "metadata": {},
     "output_type": "execute_result"
    }
   ],
   "source": [
    "Games + Sports"
   ]
  },
  {
   "cell_type": "code",
   "execution_count": 102,
   "metadata": {},
   "outputs": [
    {
     "data": {
      "text/plain": [
       "res70: Boolean = false\n"
      ]
     },
     "execution_count": 102,
     "metadata": {},
     "output_type": "execute_result"
    }
   ],
   "source": [
    "Games.contains(\"Golf\")"
   ]
  },
  {
   "cell_type": "code",
   "execution_count": 104,
   "metadata": {},
   "outputs": [
    {
     "data": {
      "text/plain": [
       "res72: Boolean = true\n"
      ]
     },
     "execution_count": 104,
     "metadata": {},
     "output_type": "execute_result"
    }
   ],
   "source": [
    "Games.contains(\"Cricket\")"
   ]
  },
  {
   "cell_type": "code",
   "execution_count": 107,
   "metadata": {},
   "outputs": [
    {
     "data": {
      "text/plain": [
       "Games: scala.collection.immutable.Set[String] = Set(Cricket, Hockey, Kabbadi, Volley)\n"
      ]
     },
     "execution_count": 107,
     "metadata": {},
     "output_type": "execute_result"
    }
   ],
   "source": [
    "var Games = Set(\"Cricket\",\"Hockey\",\"Kabbadi\",\"Volley\")"
   ]
  },
  {
   "cell_type": "code",
   "execution_count": 108,
   "metadata": {},
   "outputs": [],
   "source": [
    "Games += \"Golf\""
   ]
  },
  {
   "cell_type": "code",
   "execution_count": 109,
   "metadata": {},
   "outputs": [],
   "source": [
    "Games -= \"Volley\""
   ]
  },
  {
   "cell_type": "code",
   "execution_count": 110,
   "metadata": {},
   "outputs": [
    {
     "data": {
      "text/plain": [
       "res75: scala.collection.immutable.Set[String] = Set(Golf, Hockey, Kabbadi, Cricket)\n"
      ]
     },
     "execution_count": 110,
     "metadata": {},
     "output_type": "execute_result"
    }
   ],
   "source": [
    "Games"
   ]
  },
  {
   "cell_type": "code",
   "execution_count": 111,
   "metadata": {},
   "outputs": [
    {
     "data": {
      "text/plain": [
       "import scala.collection.immutable.SortedSet\r\n",
       "res76: scala.collection.immutable.SortedSet[Int] = TreeSet(1, 2, 3, 5, 7, 8, 9)\n"
      ]
     },
     "execution_count": 111,
     "metadata": {},
     "output_type": "execute_result"
    }
   ],
   "source": [
    "import scala.collection.immutable.SortedSet\n",
    "\n",
    "SortedSet(9,8,7,5,3,2,1)"
   ]
  },
  {
   "cell_type": "code",
   "execution_count": 116,
   "metadata": {},
   "outputs": [
    {
     "name": "stdout",
     "output_type": "stream",
     "text": [
      "Golf\n",
      "Hockey\n",
      "Kabbadi\n",
      "Cricket\n"
     ]
    }
   ],
   "source": [
    "Games.foreach(println)"
   ]
  },
  {
   "cell_type": "code",
   "execution_count": 118,
   "metadata": {},
   "outputs": [
    {
     "data": {
      "text/plain": [
       "import scala.io.Source\n"
      ]
     },
     "execution_count": 118,
     "metadata": {},
     "output_type": "execute_result"
    }
   ],
   "source": [
    "import scala.io.Source"
   ]
  },
  {
   "cell_type": "code",
   "execution_count": 127,
   "metadata": {},
   "outputs": [
    {
     "data": {
      "text/plain": [
       "filename: String = README.md\r\n",
       "filesource: scala.io.BufferedSource = non-empty iterator\n"
      ]
     },
     "execution_count": 127,
     "metadata": {},
     "output_type": "execute_result"
    }
   ],
   "source": [
    "val filename = \"README.md\"\n",
    "val filesource = Source.fromFile(filename)"
   ]
  },
  {
   "cell_type": "code",
   "execution_count": 121,
   "metadata": {},
   "outputs": [
    {
     "data": {
      "text/plain": [
       "res83: Boolean = true\n"
      ]
     },
     "execution_count": 121,
     "metadata": {},
     "output_type": "execute_result"
    }
   ],
   "source": [
    "filesource.hasNext"
   ]
  },
  {
   "cell_type": "code",
   "execution_count": 128,
   "metadata": {},
   "outputs": [
    {
     "name": "stdout",
     "output_type": "stream",
     "text": [
      "# sca"
     ]
    }
   ],
   "source": [
    "for(i <- 1 to 5) print(filesource.next)"
   ]
  },
  {
   "cell_type": "code",
   "execution_count": 129,
   "metadata": {},
   "outputs": [],
   "source": [
    "filesource.close()"
   ]
  },
  {
   "cell_type": "code",
   "execution_count": 130,
   "metadata": {},
   "outputs": [
    {
     "data": {
      "text/plain": [
       "res91: Char = l\n"
      ]
     },
     "execution_count": 130,
     "metadata": {},
     "output_type": "execute_result"
    }
   ],
   "source": [
    "filesource.next"
   ]
  },
  {
   "cell_type": "code",
   "execution_count": 1,
   "metadata": {},
   "outputs": [
    {
     "name": "stdout",
     "output_type": "stream",
     "text": [
      "Hello, This is Singleton Object\n"
     ]
    },
    {
     "data": {
      "text/plain": [
       "defined object SingletonObject\n"
      ]
     },
     "execution_count": 1,
     "metadata": {},
     "output_type": "execute_result"
    }
   ],
   "source": [
    "object SingletonObject{  \n",
    "    def hello(){  \n",
    "        println(\"Hello, This is Singleton Object\")  \n",
    "    }  \n",
    "}  \n",
    "\n",
    "SingletonObjectgletonObject.hello()"
   ]
  },
  {
   "cell_type": "code",
   "execution_count": null,
   "metadata": {},
   "outputs": [],
   "source": []
  }
 ],
 "metadata": {
  "kernelspec": {
   "display_name": "spylon-kernel",
   "language": "scala",
   "name": "spylon-kernel"
  },
  "language_info": {
   "codemirror_mode": "text/x-scala",
   "file_extension": ".scala",
   "help_links": [
    {
     "text": "MetaKernel Magics",
     "url": "https://metakernel.readthedocs.io/en/latest/source/README.html"
    }
   ],
   "mimetype": "text/x-scala",
   "name": "scala",
   "pygments_lexer": "scala",
   "version": "0.4.1"
  }
 },
 "nbformat": 4,
 "nbformat_minor": 4
}
