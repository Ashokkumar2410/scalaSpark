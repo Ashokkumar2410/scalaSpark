{
 "cells": [
  {
   "cell_type": "markdown",
   "metadata": {},
   "source": [
    "### The Scala REPL\n",
    "\n",
    "The Scala REPL (“Read-Evaluate-Print-Loop”) is a command-line interpreter that you use as a “playground” area to test your Scala code"
   ]
  },
  {
   "cell_type": "markdown",
   "metadata": {},
   "source": [
    "#### Two types of variables"
   ]
  },
  {
   "cell_type": "code",
   "execution_count": 1,
   "metadata": {},
   "outputs": [
    {
     "data": {
      "text/plain": [
       "Intitializing Scala interpreter ..."
      ]
     },
     "metadata": {},
     "output_type": "display_data"
    },
    {
     "data": {
      "text/plain": [
       "Spark Web UI available at http://DESKTOP-7M17AKF:4040\n",
       "SparkContext available as 'sc' (version = 2.4.5, master = local[*], app id = local-1589436842755)\n",
       "SparkSession available as 'spark'\n"
      ]
     },
     "metadata": {},
     "output_type": "display_data"
    },
    {
     "data": {
      "text/plain": [
       "immutable: String = Ashok\r\n",
       "mutable: String = kumar\n"
      ]
     },
     "execution_count": 1,
     "metadata": {},
     "output_type": "execute_result"
    }
   ],
   "source": [
    "val immutable = \"Ashok\"\n",
    "var mutable = \"kumar\""
   ]
  },
  {
   "cell_type": "code",
   "execution_count": 2,
   "metadata": {},
   "outputs": [
    {
     "ename": "<console>",
     "evalue": "26: error: reassignment to val\r",
     "output_type": "error",
     "traceback": [
      "<console>:26: error: reassignment to val\r",
      "       immutable = \"Ash\"\r",
      "                 ^",
      ""
     ]
    }
   ],
   "source": [
    "immutable = \"Ash\""
   ]
  },
  {
   "cell_type": "code",
   "execution_count": 3,
   "metadata": {},
   "outputs": [
    {
     "data": {
      "text/plain": [
       "mutable: String = Ashokkumar\n"
      ]
     },
     "execution_count": 3,
     "metadata": {},
     "output_type": "execute_result"
    }
   ],
   "source": [
    "mutable = \"Ashokkumar\""
   ]
  },
  {
   "cell_type": "code",
   "execution_count": 10,
   "metadata": {},
   "outputs": [
    {
     "data": {
      "text/plain": [
       "x: Int = 1\r\n",
       "s: String = a string\r\n",
       "p: Double = 3.33\r\n",
       "boo: Boolean = true\n"
      ]
     },
     "execution_count": 10,
     "metadata": {},
     "output_type": "execute_result"
    }
   ],
   "source": [
    "val x: Int = 1\n",
    "val s: String = \"a string\"\n",
    "val p: Double = 3.33\n",
    "val boo:Boolean = true"
   ]
  },
  {
   "cell_type": "markdown",
   "metadata": {},
   "source": [
    "### Define some functions"
   ]
  },
  {
   "cell_type": "code",
   "execution_count": 12,
   "metadata": {},
   "outputs": [
    {
     "data": {
      "text/plain": [
       "max: (x: Int, y: Int)Int\r\n",
       "res1: Int = 4\n"
      ]
     },
     "execution_count": 12,
     "metadata": {},
     "output_type": "execute_result"
    }
   ],
   "source": [
    "def max(x:Int,y: Int): Int = {\n",
    "    if(x>y){\n",
    "        x\n",
    "    }else{\n",
    "        y\n",
    "    }\n",
    "}\n",
    "\n",
    "max(3,4)"
   ]
  },
  {
   "cell_type": "code",
   "execution_count": 15,
   "metadata": {},
   "outputs": [
    {
     "name": "stdout",
     "output_type": "stream",
     "text": [
      "5\n",
      "5\n"
     ]
    },
    {
     "data": {
      "text/plain": [
       "Max: (x: Int, y: Int)Int\n"
      ]
     },
     "execution_count": 15,
     "metadata": {},
     "output_type": "execute_result"
    }
   ],
   "source": [
    "def Max(x:Int, y:Int): Int = if(x>y) x else y\n",
    "println(Max(3,5))\n",
    "println(Max(5,4))"
   ]
  },
  {
   "cell_type": "code",
   "execution_count": 17,
   "metadata": {},
   "outputs": [
    {
     "data": {
      "text/plain": [
       "greet: ()String\r\n",
       "res5: String = Hello\n"
      ]
     },
     "execution_count": 17,
     "metadata": {},
     "output_type": "execute_result"
    }
   ],
   "source": [
    "def greet() = \"Hello\"\n",
    "greet()"
   ]
  },
  {
   "cell_type": "markdown",
   "metadata": {},
   "source": [
    "###  Loop with while; decide with if"
   ]
  },
  {
   "cell_type": "code",
   "execution_count": 22,
   "metadata": {},
   "outputs": [
    {
     "name": "stdout",
     "output_type": "stream",
     "text": [
      "4\n",
      "3\n",
      "2\n",
      "1\n",
      "0\n",
      "kohsa\n"
     ]
    },
    {
     "data": {
      "text/plain": [
       "i: Int = 6\r\n",
       "name: String = ashok\r\n",
       "revname: String = kohsa\n"
      ]
     },
     "execution_count": 22,
     "metadata": {},
     "output_type": "execute_result"
    }
   ],
   "source": [
    "var i = 1\n",
    "val name = \"ashok\"\n",
    "var revname=\"\"\n",
    "while( i < name.length+1){\n",
    "    revname+=name(name.length - i)\n",
    "    println(name.length - i)\n",
    "    i+=1\n",
    "}\n",
    "println(revname)"
   ]
  },
  {
   "cell_type": "code",
   "execution_count": 24,
   "metadata": {},
   "outputs": [
    {
     "name": "stdout",
     "output_type": "stream",
     "text": [
      "1 is the odd\n",
      "2 is the even\n",
      "3 is the odd\n",
      "4 is the even\n",
      "5 is the odd\n",
      "6 is the even\n",
      "7 is the odd\n",
      "8 is the even\n",
      "9 is the odd\n",
      "10 is the even\n"
     ]
    }
   ],
   "source": [
    "for(i <- 1 to 10) if(i%2==0) println(s\"$i is the even\") else println(s\"$i is the odd\")"
   ]
  },
  {
   "cell_type": "code",
   "execution_count": 34,
   "metadata": {},
   "outputs": [
    {
     "data": {
      "text/plain": [
       "res19: scala.collection.immutable.Range.Inclusive = Range(0, 1, 2)\n"
      ]
     },
     "execution_count": 34,
     "metadata": {},
     "output_type": "execute_result"
    }
   ],
   "source": [
    "0.to(2)"
   ]
  },
  {
   "cell_type": "code",
   "execution_count": 35,
   "metadata": {},
   "outputs": [
    {
     "data": {
      "text/plain": [
       "res20: scala.collection.immutable.Range.Inclusive = Range(2, 3)\n"
      ]
     },
     "execution_count": 35,
     "metadata": {},
     "output_type": "execute_result"
    }
   ],
   "source": [
    "2.to(3)"
   ]
  },
  {
   "cell_type": "code",
   "execution_count": 38,
   "metadata": {},
   "outputs": [
    {
     "data": {
      "text/plain": [
       "res23: scala.collection.immutable.Range.Inclusive = Range()\n"
      ]
     },
     "execution_count": 38,
     "metadata": {},
     "output_type": "execute_result"
    }
   ],
   "source": [
    "5.to(3)"
   ]
  },
  {
   "cell_type": "markdown",
   "metadata": {},
   "source": [
    "### List & Tuple & Map"
   ]
  },
  {
   "cell_type": "code",
   "execution_count": 31,
   "metadata": {},
   "outputs": [
    {
     "data": {
      "text/plain": [
       "big: java.math.BigInteger = 12345\n"
      ]
     },
     "execution_count": 31,
     "metadata": {},
     "output_type": "execute_result"
    }
   ],
   "source": [
    "val big = new java.math.BigInteger(\"12345\")"
   ]
  },
  {
   "cell_type": "code",
   "execution_count": 26,
   "metadata": {},
   "outputs": [
    {
     "data": {
      "text/plain": [
       "arr: Array[String] = Array(null, null, null)\n"
      ]
     },
     "execution_count": 26,
     "metadata": {},
     "output_type": "execute_result"
    }
   ],
   "source": [
    "val arr = new Array[String](3)"
   ]
  },
  {
   "cell_type": "code",
   "execution_count": 28,
   "metadata": {},
   "outputs": [],
   "source": [
    "arr(0) = \"Hello\"\n",
    "arr(1) = \"ashok\"\n",
    "arr(2) = \"how r u\""
   ]
  },
  {
   "cell_type": "code",
   "execution_count": 29,
   "metadata": {},
   "outputs": [
    {
     "data": {
      "text/plain": [
       "res15: Array[String] = Array(Hello, ashok, how r u)\n"
      ]
     },
     "execution_count": 29,
     "metadata": {},
     "output_type": "execute_result"
    }
   ],
   "source": [
    "arr"
   ]
  },
  {
   "cell_type": "code",
   "execution_count": 30,
   "metadata": {},
   "outputs": [
    {
     "ename": "java.lang.ArrayIndexOutOfBoundsException",
     "evalue": " 4\r",
     "output_type": "error",
     "traceback": [
      "java.lang.ArrayIndexOutOfBoundsException: 4\r",
      "  ... 36 elided",
      ""
     ]
    }
   ],
   "source": [
    "arr(4) = \"o\""
   ]
  },
  {
   "cell_type": "code",
   "execution_count": 33,
   "metadata": {},
   "outputs": [
    {
     "data": {
      "text/plain": [
       "res18: Array[String] = Array(Hello, ashok, How Are You)\n"
      ]
     },
     "execution_count": 33,
     "metadata": {},
     "output_type": "execute_result"
    }
   ],
   "source": [
    "arr(2) = \"How Are You\"\n",
    "arr"
   ]
  },
  {
   "cell_type": "code",
   "execution_count": 39,
   "metadata": {},
   "outputs": [
    {
     "data": {
      "text/plain": [
       "res24: String = Hello\n"
      ]
     },
     "execution_count": 39,
     "metadata": {},
     "output_type": "execute_result"
    }
   ],
   "source": [
    "arr.apply(0)"
   ]
  },
  {
   "cell_type": "code",
   "execution_count": 41,
   "metadata": {},
   "outputs": [
    {
     "data": {
      "text/plain": [
       "res26: String = How Are You\n"
      ]
     },
     "execution_count": 41,
     "metadata": {},
     "output_type": "execute_result"
    }
   ],
   "source": [
    "// arr(arr.length-1)\n",
    "arr.apply(arr.length-1)"
   ]
  },
  {
   "cell_type": "code",
   "execution_count": 43,
   "metadata": {},
   "outputs": [
    {
     "data": {
      "text/plain": [
       "arr2: Array[String] = Array(zero, one, two)\n"
      ]
     },
     "execution_count": 43,
     "metadata": {},
     "output_type": "execute_result"
    }
   ],
   "source": [
    "val arr2 = Array.apply(\"zero\", \"one\", \"two\")"
   ]
  },
  {
   "cell_type": "markdown",
   "metadata": {},
   "source": [
    "#### Use lists"
   ]
  },
  {
   "cell_type": "code",
   "execution_count": 44,
   "metadata": {},
   "outputs": [
    {
     "data": {
      "text/plain": [
       "twothree: List[Int] = List(2, 3)\r\n",
       "onetwothree: List[Int] = List(1, 2, 3)\n"
      ]
     },
     "execution_count": 44,
     "metadata": {},
     "output_type": "execute_result"
    }
   ],
   "source": [
    "val twothree = List(2,3)\n",
    "val onetwothree=1::twothree"
   ]
  },
  {
   "cell_type": "code",
   "execution_count": 45,
   "metadata": {},
   "outputs": [
    {
     "ename": "<console>",
     "evalue": "26: error: value :: is not a member of Int\r",
     "output_type": "error",
     "traceback": [
      "<console>:26: error: value :: is not a member of Int\r",
      "       val twothreeone=twothree::1\r",
      "                               ^",
      ""
     ]
    }
   ],
   "source": [
    "val twothreeone=twothree::1"
   ]
  },
  {
   "cell_type": "code",
   "execution_count": 50,
   "metadata": {},
   "outputs": [
    {
     "data": {
      "text/plain": [
       "oneTwo: List[Int] = List(1, 2)\r\n",
       "threeFour: List[Int] = List(3, 4)\r\n",
       "res32: List[Any] = List(List(1, 2), 3, 4)\n"
      ]
     },
     "execution_count": 50,
     "metadata": {},
     "output_type": "execute_result"
    }
   ],
   "source": [
    "val oneTwo = List(1, 2)\n",
    "val threeFour = List(3, 4)\n",
    "oneTwo::threeFour  // append"
   ]
  },
  {
   "cell_type": "code",
   "execution_count": 51,
   "metadata": {},
   "outputs": [
    {
     "data": {
      "text/plain": [
       "res33: List[Int] = List(1, 2, 3, 4)\n"
      ]
     },
     "execution_count": 51,
     "metadata": {},
     "output_type": "execute_result"
    }
   ],
   "source": [
    "oneTwo:::threeFour //extend"
   ]
  },
  {
   "cell_type": "code",
   "execution_count": 52,
   "metadata": {},
   "outputs": [
    {
     "data": {
      "text/plain": [
       "oneTwoThree: List[Int] = List(1, 2, 3)\n"
      ]
     },
     "execution_count": 52,
     "metadata": {},
     "output_type": "execute_result"
    }
   ],
   "source": [
    "val oneTwoThree = 1 :: 2 :: 3 :: Nil"
   ]
  },
  {
   "cell_type": "markdown",
   "metadata": {},
   "source": [
    "#### Use tuples"
   ]
  },
  {
   "cell_type": "code",
   "execution_count": 53,
   "metadata": {},
   "outputs": [
    {
     "name": "stdout",
     "output_type": "stream",
     "text": [
      "99\n",
      "Luftballons\n"
     ]
    },
    {
     "data": {
      "text/plain": [
       "pair: (Int, String) = (99,Luftballons)\n"
      ]
     },
     "execution_count": 53,
     "metadata": {},
     "output_type": "execute_result"
    }
   ],
   "source": [
    "val pair = (99, \"Luftballons\")\n",
    "println(pair._1)\n",
    "println(pair._2)"
   ]
  },
  {
   "cell_type": "markdown",
   "metadata": {},
   "source": [
    "#### Use sets and maps"
   ]
  },
  {
   "cell_type": "code",
   "execution_count": 54,
   "metadata": {},
   "outputs": [
    {
     "data": {
      "text/plain": [
       "Myname: scala.collection.immutable.Set[String] = Set(Darris, Ashok, Kumar, Smith, Appu)\r\n",
       "res35: Boolean = true\n"
      ]
     },
     "execution_count": 54,
     "metadata": {},
     "output_type": "execute_result"
    }
   ],
   "source": [
    "var Myname = Set(\"Ashok\",\"Kumar\", \"Darris\", \"Smith\")\n",
    "Myname+=\"Appu\"\n",
    "Myname.contains(\"Appu\")"
   ]
  },
  {
   "cell_type": "code",
   "execution_count": 55,
   "metadata": {},
   "outputs": [
    {
     "data": {
      "text/plain": [
       "import scala.collection.mutable.Set\r\n",
       "movieSet: scala.collection.mutable.Set[String] = Set(Poltergeist, Shrek, Hitch)\r\n",
       "res36: movieSet.type = Set(Poltergeist, Shrek, Hitch)\n"
      ]
     },
     "execution_count": 55,
     "metadata": {},
     "output_type": "execute_result"
    }
   ],
   "source": [
    "import scala.collection.mutable.Set\n",
    "val movieSet = Set(\"Hitch\", \"Poltergeist\")\n",
    "movieSet += \"Shrek\""
   ]
  },
  {
   "cell_type": "code",
   "execution_count": 56,
   "metadata": {},
   "outputs": [
    {
     "name": "stdout",
     "output_type": "stream",
     "text": [
      "Set(Chilies, Tomatoes, Coriander)\n"
     ]
    },
    {
     "data": {
      "text/plain": [
       "import scala.collection.immutable.HashSet\r\n",
       "hashSet: scala.collection.immutable.HashSet[String] = Set(Chilies, Tomatoes)\n"
      ]
     },
     "execution_count": 56,
     "metadata": {},
     "output_type": "execute_result"
    }
   ],
   "source": [
    "import scala.collection.immutable.HashSet\n",
    "val hashSet = HashSet(\"Tomatoes\", \"Chilies\")\n",
    "println(hashSet + \"Coriander\")"
   ]
  },
  {
   "cell_type": "code",
   "execution_count": 63,
   "metadata": {},
   "outputs": [
    {
     "data": {
      "text/plain": [
       "import scala.collection.mutable.Map\r\n",
       "Name: scala.collection.mutable.Map[String,String] = Map(2 -> Ramakrishnan, 1 -> Ashokkumar)\r\n",
       "res43: Name.type = Map(2 -> Ramakrishnan, 1 -> Ashokkumar)\n"
      ]
     },
     "execution_count": 63,
     "metadata": {},
     "output_type": "execute_result"
    }
   ],
   "source": [
    "import scala.collection.mutable.Map\n",
    "\n",
    "val Name = Map[String,String]()\n",
    "Name+=(\"1\" -> \"Ashokkumar\")\n",
    "Name+=(\"2\" -> \"Ramakrishnan\")"
   ]
  },
  {
   "cell_type": "code",
   "execution_count": 64,
   "metadata": {},
   "outputs": [
    {
     "data": {
      "text/plain": [
       "res44: String = Ashokkumar\n"
      ]
     },
     "execution_count": 64,
     "metadata": {},
     "output_type": "execute_result"
    }
   ],
   "source": [
    "Name(\"1\")"
   ]
  },
  {
   "cell_type": "code",
   "execution_count": 65,
   "metadata": {},
   "outputs": [
    {
     "data": {
      "text/plain": [
       "romanNumeral: scala.collection.mutable.Map[Int,String] = Map(2 -> II, 5 -> V, 4 -> IV, 1 -> I, 3 -> III)\n"
      ]
     },
     "execution_count": 65,
     "metadata": {},
     "output_type": "execute_result"
    }
   ],
   "source": [
    " val romanNumeral = Map(\n",
    "    1 -> \"I\", 2 -> \"II\", 3 -> \"III\", 4 -> \"IV\", 5 -> \"V\"\n",
    "  )"
   ]
  },
  {
   "cell_type": "markdown",
   "metadata": {},
   "source": [
    "#### Learn to recognize the functional style"
   ]
  },
  {
   "cell_type": "code",
   "execution_count": 71,
   "metadata": {},
   "outputs": [
    {
     "data": {
      "text/plain": [
       "formatArgs: (v: Array[String])String\r\n",
       "res48: String =\r\n",
       "Hi\r\n",
       "Ashok\r\n",
       "How\r\n",
       "Are\r\n",
       "You\n"
      ]
     },
     "execution_count": 71,
     "metadata": {},
     "output_type": "execute_result"
    }
   ],
   "source": [
    "def formatArgs(v:Array[String]) = v.mkString(\"\\n\")\n",
    "formatArgs(Array(\"Hi\",\"Ashok\",\"How\",\"Are\",\"You\"))"
   ]
  },
  {
   "cell_type": "code",
   "execution_count": 74,
   "metadata": {},
   "outputs": [
    {
     "data": {
      "text/plain": [
       "res51: String = Hi-Ashok-How-Are-You\n"
      ]
     },
     "execution_count": 74,
     "metadata": {},
     "output_type": "execute_result"
    }
   ],
   "source": [
    "Array(\"Hi\",\"Ashok\",\"How\",\"Are\",\"You\").mkString(\"-\") //like Join"
   ]
  },
  {
   "cell_type": "markdown",
   "metadata": {},
   "source": [
    "#### Read lines from a file"
   ]
  },
  {
   "cell_type": "code",
   "execution_count": 85,
   "metadata": {},
   "outputs": [
    {
     "data": {
      "text/plain": [
       "import scala.io.Source\r\n",
       "sourceFile: String = C:/workspace/data/emp.sql\r\n",
       "text: Iterator[String] = non-empty iterator\n"
      ]
     },
     "execution_count": 85,
     "metadata": {},
     "output_type": "execute_result"
    }
   ],
   "source": [
    "import scala.io.Source\n",
    "\n",
    "val sourceFile = \"C:/workspace/data/emp.sql\"\n",
    "val text = Source.fromFile(sourceFile).getLines"
   ]
  },
  {
   "cell_type": "code",
   "execution_count": 86,
   "metadata": {},
   "outputs": [
    {
     "name": "stdout",
     "output_type": "stream",
     "text": [
      ".header ON--SELECT EmployeeId,LastName,FirstName,Title,HireDate-BirthDate as Age FROM employees ;--select * from playlists ;/* 1. sql.print \"====================================\"WITH CTE(CustomerId,BillingCity,DuplicateCount) AS (SELECT CustomerId, BillingCity, ROW_NUMBER() OVER(PARTITION BY CustomerId,BillingCity           ORDER BY CustomerId) AS DuplicateCount    FROM invoices )SELECT * FROM CTE WHERE DuplicateCount > 1 limit 5;.print \"====================================\"*/.print \"=========================\"SELECT * FROM employees ORDER BY LastName;.print \"=========================\""
     ]
    }
   ],
   "source": [
    "text.foreach(print)"
   ]
  },
  {
   "cell_type": "code",
   "execution_count": 87,
   "metadata": {},
   "outputs": [
    {
     "data": {
      "text/plain": [
       "lines: List[String] = List(.header ON, --SELECT EmployeeId,LastName,FirstName,Title,HireDate-BirthDate as Age FROM employees ;, --select * from playlists ;, /* 1. sql, \"\", .print \"====================================\", WITH CTE(CustomerId,BillingCity,DuplicateCount) AS (, SELECT CustomerId, BillingCity, ROW_NUMBER() OVER(PARTITION BY CustomerId,BillingCity, \"           ORDER BY CustomerId) AS DuplicateCount\", \"    FROM invoices )\", SELECT * FROM CTE WHERE DuplicateCount > 1 limit 5;, \"\", .print \"====================================\", */, \"\", \"\", .print \"=========================\", SELECT * FROM employees ORDER BY LastName;, .print \"=========================\")\n"
      ]
     },
     "execution_count": 87,
     "metadata": {},
     "output_type": "execute_result"
    }
   ],
   "source": [
    "val lines = Source.fromFile(sourceFile).getLines.toList"
   ]
  },
  {
   "cell_type": "code",
   "execution_count": 88,
   "metadata": {},
   "outputs": [
    {
     "data": {
      "text/plain": [
       "res57: Int = 19\n"
      ]
     },
     "execution_count": 88,
     "metadata": {},
     "output_type": "execute_result"
    }
   ],
   "source": [
    "lines.length"
   ]
  },
  {
   "cell_type": "code",
   "execution_count": 89,
   "metadata": {},
   "outputs": [
    {
     "data": {
      "text/plain": [
       "lines: Array[String] = Array(.header ON, --SELECT EmployeeId,LastName,FirstName,Title,HireDate-BirthDate as Age FROM employees ;, --select * from playlists ;, /* 1. sql, \"\", .print \"====================================\", WITH CTE(CustomerId,BillingCity,DuplicateCount) AS (, SELECT CustomerId, BillingCity, ROW_NUMBER() OVER(PARTITION BY CustomerId,BillingCity, \"           ORDER BY CustomerId) AS DuplicateCount\", \"    FROM invoices )\", SELECT * FROM CTE WHERE DuplicateCount > 1 limit 5;, \"\", .print \"====================================\", */, \"\", \"\", .print \"=========================\", SELECT * FROM employees ORDER BY LastName;, .print \"=========================\")\n"
      ]
     },
     "execution_count": 89,
     "metadata": {},
     "output_type": "execute_result"
    }
   ],
   "source": [
    "val lines = Source.fromFile(sourceFile).getLines.toArray"
   ]
  },
  {
   "cell_type": "code",
   "execution_count": 90,
   "metadata": {},
   "outputs": [],
   "source": [
    "Console.err.println(\"Please enter filename\")"
   ]
  },
  {
   "cell_type": "markdown",
   "metadata": {},
   "source": [
    "### Classes and Objects"
   ]
  },
  {
   "cell_type": "markdown",
   "metadata": {},
   "source": [
    "##### Classes, fields, and methods"
   ]
  },
  {
   "cell_type": "code",
   "execution_count": 91,
   "metadata": {},
   "outputs": [
    {
     "data": {
      "text/plain": [
       "defined class ChecksumAccumulator\n"
      ]
     },
     "execution_count": 91,
     "metadata": {},
     "output_type": "execute_result"
    }
   ],
   "source": [
    "class ChecksumAccumulator {\n",
    "\n",
    "    private var sum = 0\n",
    "\n",
    "    def add(b: Byte): Unit = {\n",
    "      sum += b\n",
    "    }\n",
    "\n",
    "    def checksum(): Int = {\n",
    "      return ~(sum & 0xFF) + 1\n",
    "    }\n",
    "  }"
   ]
  },
  {
   "cell_type": "code",
   "execution_count": 95,
   "metadata": {},
   "outputs": [
    {
     "data": {
      "text/plain": [
       "ii: ChecksumAccumulator = ChecksumAccumulator@42e4752d\n"
      ]
     },
     "execution_count": 95,
     "metadata": {},
     "output_type": "execute_result"
    }
   ],
   "source": [
    "val ii = new ChecksumAccumulator()"
   ]
  },
  {
   "cell_type": "code",
   "execution_count": 96,
   "metadata": {},
   "outputs": [],
   "source": [
    "ii.add(2)"
   ]
  },
  {
   "cell_type": "code",
   "execution_count": 97,
   "metadata": {},
   "outputs": [
    {
     "data": {
      "text/plain": [
       "res62: Int = -2\n"
      ]
     },
     "execution_count": 97,
     "metadata": {},
     "output_type": "execute_result"
    }
   ],
   "source": [
    "ii.checksum()"
   ]
  },
  {
   "cell_type": "markdown",
   "metadata": {},
   "source": [
    "##### Semicolon inference"
   ]
  },
  {
   "cell_type": "code",
   "execution_count": 98,
   "metadata": {},
   "outputs": [
    {
     "name": "stdout",
     "output_type": "stream",
     "text": [
      "hello\n"
     ]
    },
    {
     "data": {
      "text/plain": [
       "s: String = hello\n"
      ]
     },
     "execution_count": 98,
     "metadata": {},
     "output_type": "execute_result"
    }
   ],
   "source": [
    "val s = \"hello\"; println(s)"
   ]
  },
  {
   "cell_type": "code",
   "execution_count": 99,
   "metadata": {},
   "outputs": [
    {
     "name": "stdout",
     "output_type": "stream",
     "text": [
      "too small\n"
     ]
    }
   ],
   "source": [
    "\n",
    "  if (x < 2)\n",
    "    println(\"too small\")\n",
    "  else\n",
    "    println(\"ok\")"
   ]
  },
  {
   "cell_type": "markdown",
   "metadata": {},
   "source": [
    "##### Singleton objects"
   ]
  },
  {
   "cell_type": "code",
   "execution_count": 100,
   "metadata": {},
   "outputs": [
    {
     "data": {
      "text/plain": [
       "defined object ChecksumAccumulator\r\n",
       "res65: Int = -248\n",
       "warning: previously defined class ChecksumAccumulator is not a companion to object ChecksumAccumulator.\n",
       "Companions must be defined together; you may wish to use :paste mode for this.\n"
      ]
     },
     "execution_count": 100,
     "metadata": {},
     "output_type": "execute_result"
    }
   ],
   "source": [
    "object ChecksumAccumulator {\n",
    "\n",
    "    private val cache = Map[String, Int]()\n",
    "\n",
    "    def calculate(s: String): Int = \n",
    "      if (cache.contains(s))\n",
    "        cache(s)\n",
    "      else {\n",
    "        val acc = new ChecksumAccumulator\n",
    "        for (c <- s)\n",
    "          acc.add(c.toByte)\n",
    "        val cs = acc.checksum()\n",
    "        cache += (s -> cs)\n",
    "        cs\n",
    "      }\n",
    "  }\n",
    "\n",
    "ChecksumAccumulator.calculate(\"Every value is an object.\")"
   ]
  },
  {
   "cell_type": "code",
   "execution_count": 101,
   "metadata": {},
   "outputs": [
    {
     "data": {
      "text/plain": [
       "res66: Byte = 5\n"
      ]
     },
     "execution_count": 101,
     "metadata": {},
     "output_type": "execute_result"
    }
   ],
   "source": [
    "5.toByte"
   ]
  },
  {
   "cell_type": "code",
   "execution_count": 102,
   "metadata": {},
   "outputs": [
    {
     "data": {
      "text/plain": [
       "import ChecksumAccumulator.calculate\n"
      ]
     },
     "execution_count": 102,
     "metadata": {},
     "output_type": "execute_result"
    }
   ],
   "source": [
    "import ChecksumAccumulator.calculate"
   ]
  },
  {
   "cell_type": "code",
   "execution_count": 103,
   "metadata": {},
   "outputs": [
    {
     "name": "stdout",
     "output_type": "stream",
     "text": [
      "Hi ==> -177\n",
      "How ==> -46\n",
      "Are ==> -24\n",
      "You ==> -61\n",
      "! ==> -33\n"
     ]
    },
    {
     "data": {
      "text/plain": [
       "arrtext: Array[String] = Array(Hi, How, Are, You, !)\n"
      ]
     },
     "execution_count": 103,
     "metadata": {},
     "output_type": "execute_result"
    }
   ],
   "source": [
    "val arrtext = Array(\"Hi\",\"How\",\"Are\",\"You\",\"!\")\n",
    "for(i <- arrtext) println (s\"$i ==> \"+calculate(i))"
   ]
  },
  {
   "cell_type": "code",
   "execution_count": null,
   "metadata": {},
   "outputs": [],
   "source": []
  },
  {
   "cell_type": "code",
   "execution_count": null,
   "metadata": {},
   "outputs": [],
   "source": []
  }
 ],
 "metadata": {
  "kernelspec": {
   "display_name": "spylon-kernel",
   "language": "scala",
   "name": "spylon-kernel"
  },
  "language_info": {
   "codemirror_mode": "text/x-scala",
   "file_extension": ".scala",
   "help_links": [
    {
     "text": "MetaKernel Magics",
     "url": "https://metakernel.readthedocs.io/en/latest/source/README.html"
    }
   ],
   "mimetype": "text/x-scala",
   "name": "scala",
   "pygments_lexer": "scala",
   "version": "0.4.1"
  }
 },
 "nbformat": 4,
 "nbformat_minor": 4
}
